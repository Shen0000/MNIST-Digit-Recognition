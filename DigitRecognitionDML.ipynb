{
  "nbformat": 4,
  "nbformat_minor": 0,
  "metadata": {
    "colab": {
      "provenance": [],
      "gpuType": "T4",
      "include_colab_link": true
    },
    "kernelspec": {
      "name": "python3",
      "display_name": "Python 3"
    },
    "language_info": {
      "name": "python"
    },
    "accelerator": "GPU"
  },
  "cells": [
    {
      "cell_type": "markdown",
      "metadata": {
        "id": "view-in-github",
        "colab_type": "text"
      },
      "source": [
        "<a href=\"https://colab.research.google.com/github/Shen0000/MNIST-Digit-Recognition/blob/main/DigitRecognitionDML.ipynb\" target=\"_parent\"><img src=\"https://colab.research.google.com/assets/colab-badge.svg\" alt=\"Open In Colab\"/></a>"
      ]
    },
    {
      "cell_type": "markdown",
      "source": [
        "Handwritten Digit Recognition"
      ],
      "metadata": {
        "id": "I96qcW47PTtX"
      }
    },
    {
      "cell_type": "markdown",
      "source": [
        "Add kaggle.json file to Colab before running cells"
      ],
      "metadata": {
        "id": "8nDC9CZN7G1r"
      }
    },
    {
      "cell_type": "code",
      "execution_count": null,
      "metadata": {
        "colab": {
          "base_uri": "https://localhost:8080/"
        },
        "id": "qkz3CJ-APOpc",
        "outputId": "abce4b54-af55-441e-d7f4-54cc5350cdcb"
      },
      "outputs": [
        {
          "output_type": "stream",
          "name": "stdout",
          "text": [
            "Requirement already satisfied: kaggle in /usr/local/lib/python3.11/dist-packages (1.7.4.2)\n",
            "Requirement already satisfied: bleach in /usr/local/lib/python3.11/dist-packages (from kaggle) (6.2.0)\n",
            "Requirement already satisfied: certifi>=14.05.14 in /usr/local/lib/python3.11/dist-packages (from kaggle) (2025.4.26)\n",
            "Requirement already satisfied: charset-normalizer in /usr/local/lib/python3.11/dist-packages (from kaggle) (3.4.1)\n",
            "Requirement already satisfied: idna in /usr/local/lib/python3.11/dist-packages (from kaggle) (3.10)\n",
            "Requirement already satisfied: protobuf in /usr/local/lib/python3.11/dist-packages (from kaggle) (5.29.4)\n",
            "Requirement already satisfied: python-dateutil>=2.5.3 in /usr/local/lib/python3.11/dist-packages (from kaggle) (2.9.0.post0)\n",
            "Requirement already satisfied: python-slugify in /usr/local/lib/python3.11/dist-packages (from kaggle) (8.0.4)\n",
            "Requirement already satisfied: requests in /usr/local/lib/python3.11/dist-packages (from kaggle) (2.32.3)\n",
            "Requirement already satisfied: setuptools>=21.0.0 in /usr/local/lib/python3.11/dist-packages (from kaggle) (75.2.0)\n",
            "Requirement already satisfied: six>=1.10 in /usr/local/lib/python3.11/dist-packages (from kaggle) (1.17.0)\n",
            "Requirement already satisfied: text-unidecode in /usr/local/lib/python3.11/dist-packages (from kaggle) (1.3)\n",
            "Requirement already satisfied: tqdm in /usr/local/lib/python3.11/dist-packages (from kaggle) (4.67.1)\n",
            "Requirement already satisfied: urllib3>=1.15.1 in /usr/local/lib/python3.11/dist-packages (from kaggle) (2.4.0)\n",
            "Requirement already satisfied: webencodings in /usr/local/lib/python3.11/dist-packages (from kaggle) (0.5.1)\n",
            "Requirement already satisfied: numpy in /usr/local/lib/python3.11/dist-packages (2.0.2)\n",
            "Requirement already satisfied: pandas in /usr/local/lib/python3.11/dist-packages (2.2.2)\n",
            "Requirement already satisfied: numpy>=1.23.2 in /usr/local/lib/python3.11/dist-packages (from pandas) (2.0.2)\n",
            "Requirement already satisfied: python-dateutil>=2.8.2 in /usr/local/lib/python3.11/dist-packages (from pandas) (2.9.0.post0)\n",
            "Requirement already satisfied: pytz>=2020.1 in /usr/local/lib/python3.11/dist-packages (from pandas) (2025.2)\n",
            "Requirement already satisfied: tzdata>=2022.7 in /usr/local/lib/python3.11/dist-packages (from pandas) (2025.2)\n",
            "Requirement already satisfied: six>=1.5 in /usr/local/lib/python3.11/dist-packages (from python-dateutil>=2.8.2->pandas) (1.17.0)\n",
            "Requirement already satisfied: matplotlib in /usr/local/lib/python3.11/dist-packages (3.10.0)\n",
            "Requirement already satisfied: contourpy>=1.0.1 in /usr/local/lib/python3.11/dist-packages (from matplotlib) (1.3.2)\n",
            "Requirement already satisfied: cycler>=0.10 in /usr/local/lib/python3.11/dist-packages (from matplotlib) (0.12.1)\n",
            "Requirement already satisfied: fonttools>=4.22.0 in /usr/local/lib/python3.11/dist-packages (from matplotlib) (4.57.0)\n",
            "Requirement already satisfied: kiwisolver>=1.3.1 in /usr/local/lib/python3.11/dist-packages (from matplotlib) (1.4.8)\n",
            "Requirement already satisfied: numpy>=1.23 in /usr/local/lib/python3.11/dist-packages (from matplotlib) (2.0.2)\n",
            "Requirement already satisfied: packaging>=20.0 in /usr/local/lib/python3.11/dist-packages (from matplotlib) (24.2)\n",
            "Requirement already satisfied: pillow>=8 in /usr/local/lib/python3.11/dist-packages (from matplotlib) (11.2.1)\n",
            "Requirement already satisfied: pyparsing>=2.3.1 in /usr/local/lib/python3.11/dist-packages (from matplotlib) (3.2.3)\n",
            "Requirement already satisfied: python-dateutil>=2.7 in /usr/local/lib/python3.11/dist-packages (from matplotlib) (2.9.0.post0)\n",
            "Requirement already satisfied: six>=1.5 in /usr/local/lib/python3.11/dist-packages (from python-dateutil>=2.7->matplotlib) (1.17.0)\n",
            "Requirement already satisfied: cupy-cuda12x in /usr/local/lib/python3.11/dist-packages (13.3.0)\n",
            "Requirement already satisfied: numpy<2.3,>=1.22 in /usr/local/lib/python3.11/dist-packages (from cupy-cuda12x) (2.0.2)\n",
            "Requirement already satisfied: fastrlock>=0.5 in /usr/local/lib/python3.11/dist-packages (from cupy-cuda12x) (0.8.3)\n"
          ]
        }
      ],
      "source": [
        "!pip install kaggle\n",
        "!pip install numpy\n",
        "!pip install pandas\n",
        "!pip install matplotlib\n",
        "!pip install cupy-cuda12x"
      ]
    },
    {
      "cell_type": "code",
      "source": [
        "!nvidia-smi"
      ],
      "metadata": {
        "colab": {
          "base_uri": "https://localhost:8080/"
        },
        "id": "3lWrFcA_lXus",
        "outputId": "d74cf6f9-74aa-4837-942c-148b0640647f"
      },
      "execution_count": null,
      "outputs": [
        {
          "output_type": "stream",
          "name": "stdout",
          "text": [
            "Sat May 10 19:07:30 2025       \n",
            "+-----------------------------------------------------------------------------------------+\n",
            "| NVIDIA-SMI 550.54.15              Driver Version: 550.54.15      CUDA Version: 12.4     |\n",
            "|-----------------------------------------+------------------------+----------------------+\n",
            "| GPU  Name                 Persistence-M | Bus-Id          Disp.A | Volatile Uncorr. ECC |\n",
            "| Fan  Temp   Perf          Pwr:Usage/Cap |           Memory-Usage | GPU-Util  Compute M. |\n",
            "|                                         |                        |               MIG M. |\n",
            "|=========================================+========================+======================|\n",
            "|   0  Tesla T4                       Off |   00000000:00:04.0 Off |                    0 |\n",
            "| N/A   38C    P8              9W /   70W |       0MiB /  15360MiB |      0%      Default |\n",
            "|                                         |                        |                  N/A |\n",
            "+-----------------------------------------+------------------------+----------------------+\n",
            "                                                                                         \n",
            "+-----------------------------------------------------------------------------------------+\n",
            "| Processes:                                                                              |\n",
            "|  GPU   GI   CI        PID   Type   Process name                              GPU Memory |\n",
            "|        ID   ID                                                               Usage      |\n",
            "|=========================================================================================|\n",
            "|  No running processes found                                                             |\n",
            "+-----------------------------------------------------------------------------------------+\n"
          ]
        }
      ]
    },
    {
      "cell_type": "code",
      "source": [
        "!mkdir /.kaggle\n",
        "!mv kaggle.json /.kaggle\n",
        "!mv /.kaggle /root/\n",
        "!chmod 600 ~/.kaggle/kaggle.json"
      ],
      "metadata": {
        "id": "3kcTQAU_SOiA"
      },
      "execution_count": null,
      "outputs": []
    },
    {
      "cell_type": "code",
      "source": [
        "!kaggle competitions download -c digit-recognizer"
      ],
      "metadata": {
        "id": "0ctLHhYbYmgH"
      },
      "execution_count": null,
      "outputs": []
    },
    {
      "cell_type": "code",
      "source": [
        "!unzip digit-recognizer.zip"
      ],
      "metadata": {
        "colab": {
          "base_uri": "https://localhost:8080/"
        },
        "id": "lKEi48BuYxbX",
        "outputId": "21da5cec-6a58-4272-da4d-4ea064cdede1"
      },
      "execution_count": null,
      "outputs": [
        {
          "output_type": "stream",
          "name": "stdout",
          "text": [
            "Archive:  digit-recognizer.zip\n",
            "  inflating: sample_submission.csv   \n",
            "  inflating: test.csv                \n",
            "  inflating: train.csv               \n"
          ]
        }
      ]
    },
    {
      "cell_type": "code",
      "source": [
        "import numpy as np\n",
        "import cupy as cp\n",
        "import pandas as pd\n",
        "import matplotlib.pyplot as plt\n",
        "\n",
        "data = pd.read_csv('train.csv')"
      ],
      "metadata": {
        "id": "CxqzGPI2Y0bp"
      },
      "execution_count": null,
      "outputs": []
    },
    {
      "cell_type": "code",
      "source": [
        "data = np.array(data)\n",
        "m, n = data.shape\n",
        "np.random.shuffle(data)\n",
        "# m = 42000, n = 785\n",
        "# n = 785 since entry[0] stores the label for that entry and entry[1:n] stores the actual image in grayscale\n",
        "\n",
        "data_test = data[0:8400].T\n",
        "Y_test = data_test[0]\n",
        "X_test = data_test[1:n]\n",
        "X_test = X_test / 255. # normalize the grayscale\n",
        "\n",
        "data_train = data[8400:m].T\n",
        "Y_train = data_train[0]\n",
        "X_train = data_train[1:n]\n",
        "X_train = X_train / 255. # normalize the grayscale\n",
        "_,m_train = X_train.shape"
      ],
      "metadata": {
        "id": "HhAF5f4QY9l4"
      },
      "execution_count": null,
      "outputs": []
    },
    {
      "cell_type": "code",
      "source": [
        "print(m, n)"
      ],
      "metadata": {
        "colab": {
          "base_uri": "https://localhost:8080/"
        },
        "id": "g5OtKmHZZNWJ",
        "outputId": "3c020bc6-caf3-4c9e-ad07-77bbfd6adfe3"
      },
      "execution_count": null,
      "outputs": [
        {
          "output_type": "stream",
          "name": "stdout",
          "text": [
            "42000 785\n"
          ]
        }
      ]
    },
    {
      "cell_type": "code",
      "source": [
        "current_image = X_train[:, 0, None].reshape((28, 28)) * 255\n",
        "plt.gray()\n",
        "plt.imshow(current_image, interpolation='nearest')\n",
        "plt.show()"
      ],
      "metadata": {
        "colab": {
          "base_uri": "https://localhost:8080/",
          "height": 430
        },
        "id": "Xf6yrkkpZj1I",
        "outputId": "bd4556e5-9d11-469a-c87d-872ada3c3c35"
      },
      "execution_count": null,
      "outputs": [
        {
          "output_type": "display_data",
          "data": {
            "text/plain": [
              "<Figure size 640x480 with 1 Axes>"
            ],
            "image/png": "[encoded data removed]"
          },
          "metadata": {}
        }
      ]
    },
    {
      "cell_type": "code",
      "source": [
        "Y_train"
      ],
      "metadata": {
        "colab": {
          "base_uri": "https://localhost:8080/"
        },
        "id": "JiWbXDTU0Xx-",
        "outputId": "5ae8f0b2-8b86-41bf-e144-11ad56d126cd"
      },
      "execution_count": null,
      "outputs": [
        {
          "output_type": "execute_result",
          "data": {
            "text/plain": [
              "array([9, 8, 6, ..., 1, 0, 0])"
            ]
          },
          "metadata": {},
          "execution_count": 9
        }
      ]
    },
    {
      "cell_type": "code",
      "source": [
        "X_train[:, 0]"
      ],
      "metadata": {
        "colab": {
          "base_uri": "https://localhost:8080/"
        },
        "id": "7SmW7B4a0ce8",
        "outputId": "cab6345b-b2da-4e1b-f9cb-8cc7994b7a49"
      },
      "execution_count": null,
      "outputs": [
        {
          "output_type": "execute_result",
          "data": {
            "text/plain": [
              "array([0.        , 0.        , 0.        , 0.        , 0.        ,\n",
              "       0.        , 0.        , 0.        , 0.        , 0.        ,\n",
              "       0.        , 0.        , 0.        , 0.        , 0.        ,\n",
              "       0.        , 0.        , 0.        , 0.        , 0.        ,\n",
              "       0.        , 0.        , 0.        , 0.        , 0.        ,\n",
              "       0.        , 0.        , 0.        , 0.        , 0.        ,\n",
              "       0.        , 0.        , 0.        , 0.        , 0.        ,\n",
              "       0.        , 0.        , 0.        , 0.        , 0.        ,\n",
              "       0.        , 0.        , 0.        , 0.        , 0.        ,\n",
              "       0.        , 0.        , 0.        , 0.        , 0.        ,\n",
              "       0.        , 0.        , 0.        , 0.        , 0.        ,\n",
              "       0.        , 0.        , 0.        , 0.        , 0.        ,\n",
              "       0.        , 0.        , 0.        , 0.        , 0.        ,\n",
              "       0.        , 0.        , 0.        , 0.        , 0.        ,\n",
              "       0.        , 0.        , 0.        , 0.        , 0.        ,\n",
              "       0.        , 0.        , 0.        , 0.        , 0.        ,\n",
              "       0.        , 0.        , 0.        , 0.        , 0.        ,\n",
              "       0.        , 0.        , 0.        , 0.        , 0.        ,\n",
              "       0.        , 0.        , 0.        , 0.        , 0.        ,\n",
              "       0.        , 0.        , 0.        , 0.        , 0.        ,\n",
              "       0.        , 0.        , 0.        , 0.        , 0.        ,\n",
              "       0.        , 0.        , 0.        , 0.        , 0.        ,\n",
              "       0.        , 0.        , 0.        , 0.        , 0.        ,\n",
              "       0.        , 0.        , 0.        , 0.        , 0.        ,\n",
              "       0.        , 0.        , 0.        , 0.        , 0.        ,\n",
              "       0.        , 0.        , 0.        , 0.        , 0.        ,\n",
              "       0.        , 0.        , 0.        , 0.        , 0.        ,\n",
              "       0.        , 0.        , 0.        , 0.        , 0.        ,\n",
              "       0.        , 0.        , 0.        , 0.        , 0.        ,\n",
              "       0.        , 0.        , 0.        , 0.        , 0.        ,\n",
              "       0.        , 0.        , 0.        , 0.        , 0.        ,\n",
              "       0.        , 0.        , 0.        , 0.        , 0.        ,\n",
              "       0.        , 0.        , 0.        , 0.        , 0.        ,\n",
              "       0.        , 0.        , 0.        , 0.        , 0.        ,\n",
              "       0.        , 0.        , 0.        , 0.        , 0.        ,\n",
              "       0.        , 0.        , 0.        , 0.        , 0.        ,\n",
              "       0.        , 0.        , 0.        , 0.        , 0.        ,\n",
              "       0.        , 0.        , 0.        , 0.        , 0.        ,\n",
              "       0.        , 0.        , 0.        , 0.        , 0.        ,\n",
              "       0.        , 0.        , 0.        , 0.        , 0.        ,\n",
              "       0.        , 0.        , 0.        , 0.        , 0.        ,\n",
              "       0.        , 0.        , 0.        , 0.14117647, 0.88235294,\n",
              "       0.76470588, 0.72156863, 1.        , 0.91764706, 0.17647059,\n",
              "       0.        , 0.        , 0.        , 0.        , 0.        ,\n",
              "       0.        , 0.        , 0.        , 0.        , 0.        ,\n",
              "       0.        , 0.        , 0.        , 0.        , 0.        ,\n",
              "       0.        , 0.        , 0.        , 0.        , 0.15686275,\n",
              "       0.61960784, 0.97647059, 0.99215686, 0.98823529, 0.98823529,\n",
              "       0.99215686, 0.99215686, 0.65098039, 0.17647059, 0.        ,\n",
              "       0.        , 0.        , 0.        , 0.        , 0.        ,\n",
              "       0.        , 0.        , 0.        , 0.        , 0.        ,\n",
              "       0.        , 0.        , 0.        , 0.        , 0.        ,\n",
              "       0.        , 0.22745098, 0.81960784, 0.99215686, 0.99215686,\n",
              "       0.99215686, 0.99215686, 0.99215686, 0.99215686, 0.99215686,\n",
              "       0.99215686, 0.60392157, 0.        , 0.        , 0.        ,\n",
              "       0.        , 0.        , 0.        , 0.        , 0.        ,\n",
              "       0.        , 0.        , 0.        , 0.        , 0.        ,\n",
              "       0.        , 0.        , 0.        , 0.16078431, 0.70980392,\n",
              "       0.90588235, 0.99215686, 0.99215686, 0.88627451, 0.58431373,\n",
              "       0.87843137, 0.61568627, 0.48235294, 0.99215686, 0.89019608,\n",
              "       0.        , 0.        , 0.        , 0.        , 0.        ,\n",
              "       0.        , 0.        , 0.        , 0.        , 0.        ,\n",
              "       0.        , 0.        , 0.        , 0.        , 0.        ,\n",
              "       0.        , 0.58039216, 0.99215686, 0.99215686, 0.99215686,\n",
              "       0.7372549 , 0.0745098 , 0.        , 0.07058824, 0.03137255,\n",
              "       0.01568627, 0.6745098 , 0.89019608, 0.        , 0.        ,\n",
              "       0.        , 0.        , 0.        , 0.        , 0.        ,\n",
              "       0.        , 0.        , 0.        , 0.        , 0.        ,\n",
              "       0.        , 0.        , 0.        , 0.        , 0.45098039,\n",
              "       0.99215686, 0.99215686, 0.99215686, 0.95686275, 0.7372549 ,\n",
              "       0.27843137, 0.        , 0.        , 0.        , 0.08235294,\n",
              "       0.11372549, 0.        , 0.        , 0.        , 0.        ,\n",
              "       0.        , 0.        , 0.        , 0.        , 0.        ,\n",
              "       0.        , 0.        , 0.        , 0.        , 0.        ,\n",
              "       0.        , 0.        , 0.05882353, 0.88627451, 0.99215686,\n",
              "       0.99215686, 0.99215686, 0.85882353, 0.82745098, 0.84313725,\n",
              "       0.43137255, 0.        , 0.        , 0.        , 0.        ,\n",
              "       0.        , 0.        , 0.        , 0.        , 0.        ,\n",
              "       0.        , 0.        , 0.        , 0.        , 0.        ,\n",
              "       0.        , 0.        , 0.        , 0.        , 0.        ,\n",
              "       0.        , 0.34117647, 0.78823529, 0.99215686, 0.74901961,\n",
              "       0.68627451, 0.68627451, 0.90588235, 0.87058824, 0.10196078,\n",
              "       0.        , 0.        , 0.        , 0.        , 0.        ,\n",
              "       0.        , 0.        , 0.        , 0.        , 0.        ,\n",
              "       0.        , 0.        , 0.        , 0.        , 0.        ,\n",
              "       0.        , 0.        , 0.        , 0.        , 0.        ,\n",
              "       0.07058824, 0.2       , 0.04313725, 0.        , 0.        ,\n",
              "       0.71764706, 0.99215686, 0.32941176, 0.        , 0.        ,\n",
              "       0.        , 0.        , 0.        , 0.        , 0.        ,\n",
              "       0.        , 0.        , 0.        , 0.        , 0.        ,\n",
              "       0.        , 0.        , 0.        , 0.        , 0.        ,\n",
              "       0.        , 0.        , 0.        , 0.        , 0.        ,\n",
              "       0.        , 0.        , 0.18039216, 0.92941176, 0.85490196,\n",
              "       0.0745098 , 0.        , 0.        , 0.        , 0.        ,\n",
              "       0.        , 0.        , 0.        , 0.        , 0.        ,\n",
              "       0.        , 0.        , 0.        , 0.        , 0.        ,\n",
              "       0.        , 0.        , 0.        , 0.        , 0.        ,\n",
              "       0.        , 0.        , 0.        , 0.        , 0.0627451 ,\n",
              "       0.67058824, 0.99215686, 0.81176471, 0.        , 0.        ,\n",
              "       0.        , 0.        , 0.        , 0.        , 0.        ,\n",
              "       0.        , 0.        , 0.        , 0.        , 0.        ,\n",
              "       0.        , 0.        , 0.        , 0.        , 0.        ,\n",
              "       0.        , 0.        , 0.        , 0.        , 0.        ,\n",
              "       0.        , 0.        , 0.25882353, 0.99215686, 0.99215686,\n",
              "       0.81176471, 0.        , 0.        , 0.        , 0.        ,\n",
              "       0.        , 0.        , 0.        , 0.        , 0.        ,\n",
              "       0.        , 0.        , 0.        , 0.        , 0.        ,\n",
              "       0.        , 0.        , 0.        , 0.        , 0.        ,\n",
              "       0.        , 0.        , 0.        , 0.        , 0.        ,\n",
              "       0.25882353, 0.99215686, 0.99215686, 0.81176471, 0.        ,\n",
              "       0.        , 0.        , 0.        , 0.        , 0.        ,\n",
              "       0.        , 0.        , 0.        , 0.        , 0.        ,\n",
              "       0.        , 0.        , 0.        , 0.        , 0.        ,\n",
              "       0.        , 0.        , 0.        , 0.        , 0.        ,\n",
              "       0.        , 0.        , 0.        , 0.6       , 0.99215686,\n",
              "       0.99215686, 0.4745098 , 0.        , 0.        , 0.        ,\n",
              "       0.        , 0.        , 0.        , 0.        , 0.        ,\n",
              "       0.        , 0.        , 0.        , 0.        , 0.        ,\n",
              "       0.        , 0.        , 0.        , 0.        , 0.        ,\n",
              "       0.        , 0.        , 0.        , 0.        , 0.        ,\n",
              "       0.        , 0.76862745, 0.99215686, 0.85882353, 0.10980392,\n",
              "       0.        , 0.        , 0.        , 0.        , 0.        ,\n",
              "       0.        , 0.        , 0.        , 0.        , 0.        ,\n",
              "       0.        , 0.        , 0.        , 0.        , 0.        ,\n",
              "       0.        , 0.        , 0.        , 0.        , 0.        ,\n",
              "       0.        , 0.        , 0.        , 0.14901961, 0.88235294,\n",
              "       0.99215686, 0.73333333, 0.        , 0.        , 0.        ,\n",
              "       0.        , 0.        , 0.        , 0.        , 0.        ,\n",
              "       0.        , 0.        , 0.        , 0.        , 0.        ,\n",
              "       0.        , 0.        , 0.        , 0.        , 0.        ,\n",
              "       0.        , 0.        , 0.        , 0.        , 0.        ,\n",
              "       0.        , 0.        , 0.76862745, 0.99215686, 0.27843137,\n",
              "       0.        , 0.        , 0.        , 0.        , 0.        ,\n",
              "       0.        , 0.        , 0.        , 0.        , 0.        ,\n",
              "       0.        , 0.        , 0.        , 0.        , 0.        ,\n",
              "       0.        , 0.        , 0.        , 0.        , 0.        ,\n",
              "       0.        , 0.        , 0.        , 0.        , 0.        ,\n",
              "       0.76862745, 0.99215686, 0.27843137, 0.        , 0.        ,\n",
              "       0.        , 0.        , 0.        , 0.        , 0.        ,\n",
              "       0.        , 0.        , 0.        , 0.        , 0.        ,\n",
              "       0.        , 0.        , 0.        , 0.        , 0.        ,\n",
              "       0.        , 0.        , 0.        , 0.        , 0.        ,\n",
              "       0.        , 0.        , 0.        , 0.75294118, 0.99215686,\n",
              "       0.27843137, 0.        , 0.        , 0.        , 0.        ,\n",
              "       0.        , 0.        , 0.        , 0.        , 0.        ,\n",
              "       0.        , 0.        , 0.        , 0.        , 0.        ,\n",
              "       0.        , 0.        , 0.        , 0.        , 0.        ,\n",
              "       0.        , 0.        , 0.        , 0.        , 0.        ,\n",
              "       0.        , 0.25882353, 0.8745098 , 0.1372549 , 0.        ,\n",
              "       0.        , 0.        , 0.        , 0.        , 0.        ,\n",
              "       0.        , 0.        , 0.        , 0.        , 0.        ,\n",
              "       0.        , 0.        , 0.        , 0.        , 0.        ,\n",
              "       0.        , 0.        , 0.        , 0.        , 0.        ,\n",
              "       0.        , 0.        , 0.        , 0.        , 0.        ,\n",
              "       0.        , 0.        , 0.        , 0.        , 0.        ,\n",
              "       0.        , 0.        , 0.        , 0.        , 0.        ,\n",
              "       0.        , 0.        , 0.        , 0.        ])"
            ]
          },
          "metadata": {},
          "execution_count": 10
        }
      ]
    },
    {
      "cell_type": "code",
      "source": [
        "layer_dims = [784, 128, 64, 10]  # input, hidden1, hidden2, output"
      ],
      "metadata": {
        "id": "w98ZN99049Nm"
      },
      "execution_count": null,
      "outputs": []
    },
    {
      "cell_type": "code",
      "source": [
        "def init_params():\n",
        "    # He initilization\n",
        "    W1 = cp.random.randn(128, 784) * cp.sqrt(2. / 784)\n",
        "    b1 = cp.zeros((128, 1))\n",
        "\n",
        "    W2 = cp.random.randn(64, 128) * cp.sqrt(2. / 128)\n",
        "    b2 = cp.zeros((64, 1))\n",
        "\n",
        "    W3 = cp.random.randn(10, 64) * cp.sqrt(2. / 64)\n",
        "    b3 = cp.zeros((10, 1))\n",
        "    return W1, b1, W2, b2, W3, b3\n",
        "\n",
        "def compute_loss(A3, Y):\n",
        "    m = Y.shape[0]\n",
        "    return -cp.sum(Y * cp.log(A3)) / m\n",
        "\n",
        "def ReLU(Z):\n",
        "    return cp.maximum(Z, 0)\n",
        "\n",
        "def softmax(Z):\n",
        "    A = cp.exp(Z) / sum(cp.exp(Z))\n",
        "    return A\n",
        "\n",
        "def forward_prop(W1, b1, W2, b2, W3, b3, X):\n",
        "    Z1 = W1.dot(X) + b1\n",
        "    A1 = ReLU(Z1)\n",
        "    Z2 = W2.dot(A1) + b2\n",
        "    A2 = ReLU(Z2)\n",
        "    Z3 = W3.dot(A2) + b3\n",
        "    A3 = softmax(Z3)\n",
        "    return Z1, A1, Z2, A2, Z3, A3\n",
        "\n",
        "def ReLU_deriv(Z):\n",
        "    return Z > 0\n",
        "\n",
        "def one_hot(Y):\n",
        "    one_hot_Y = cp.zeros((Y.size, int(Y.max() + 1)))\n",
        "    one_hot_Y[cp.arange(Y.size), Y] = 1\n",
        "    one_hot_Y = one_hot_Y.T\n",
        "    return one_hot_Y\n",
        "\n",
        "def backward_prop(Z1, A1, Z2, A2, Z3, A3, W1, W2, W3, X, Y):\n",
        "    one_hot_Y = one_hot(Y)\n",
        "    dZ3 = A3 - one_hot_Y\n",
        "    dW3 = 1 / m * dZ3.dot(A2.T)\n",
        "    db3 = 1 / m * cp.sum(dZ3)\n",
        "    dZ2 = W3.T.dot(dZ3) * ReLU_deriv(Z2)\n",
        "    dW2 = 1 / m * dZ2.dot(A1.T)\n",
        "    db2 = 1 / m * cp.sum(dZ2)\n",
        "    dZ1 = W2.T.dot(dZ2) * ReLU_deriv(Z1)\n",
        "    dW1 = 1 / m * dZ1.dot(X.T)\n",
        "    db1 = 1 / m * cp.sum(dZ1)\n",
        "    return dW1, db1, dW2, db2, dW3, db3\n",
        "\n",
        "def update_params(W1, b1, W2, b2, W3, b3, dW1, db1, dW2, db2, dW3, db3, alpha):\n",
        "    W1 = W1 - alpha * dW1\n",
        "    b1 = b1 - alpha * db1\n",
        "    W2 = W2 - alpha * dW2\n",
        "    b2 = b2 - alpha * db2\n",
        "    W3 = W3 - alpha * dW3\n",
        "    b3 = b3 - alpha * db3\n",
        "    return W1, b1, W2, b2, W3, b3"
      ],
      "metadata": {
        "id": "xzzniPyh1D07"
      },
      "execution_count": null,
      "outputs": []
    },
    {
      "cell_type": "code",
      "source": [
        "def get_predictions(A3):\n",
        "    return cp.argmax(A3, 0)\n",
        "\n",
        "def get_accuracy(predictions, Y):\n",
        "    print(predictions, Y)\n",
        "    return np.sum(predictions == Y) / Y.size\n",
        "\n",
        "def gradient_descent(X, Y, alpha, iterations):\n",
        "    W1, b1, W2, b2, W3, b3  = init_params()\n",
        "    for i in range(iterations):\n",
        "        Z1, A1, Z2, A2, Z3, A3 = forward_prop(W1, b1, W2, b2, W3, b3, X)\n",
        "        dW1, db1, dW2, db2, dW3, db3 = backward_prop(Z1, A1, Z2, A2, Z3, A3, W1, W2, W3, X, Y)\n",
        "        W1, b1, W2, b2, W3, b3 = update_params(W1, b1, W2, b2, W3, b3, dW1, db1, dW2, db2, dW3, db3, alpha)\n",
        "        if i % 10 == 0:\n",
        "            print(\"Iteration: \", i)\n",
        "            predictions = get_predictions(A3)\n",
        "            print(get_accuracy(predictions, Y))\n",
        "            print(f\"Loss: {compute_loss(A3, Y)}\")\n",
        "    return W1, b1, W2, b2, W3, b3"
      ],
      "metadata": {
        "id": "7pZUFoXj6Nq7"
      },
      "execution_count": null,
      "outputs": []
    },
    {
      "cell_type": "code",
      "source": [
        "W1, b1, W2, b2, W3, b3 = gradient_descent(cp.asarray(X_train), cp.asarray(Y_train), 0.25, 1000)"
      ],
      "metadata": {
        "colab": {
          "base_uri": "https://localhost:8080/"
        },
        "id": "GlN3y_ap6IGR",
        "outputId": "5bc4b46f-eaa4-4b9b-83a2-58d0cfdc9e89"
      },
      "execution_count": null,
      "outputs": [
        {
          "output_type": "stream",
          "name": "stdout",
          "text": [
            "Iteration:  0\n",
            "[6 6 2 ... 6 6 2] [9 8 6 ... 1 0 0]\n",
            "0.08407738095238096\n",
            "Loss: 105.73108416035926\n",
            "Iteration:  10\n",
            "[5 8 6 ... 1 0 0] [9 8 6 ... 1 0 0]\n",
            "0.6640178571428571\n",
            "Loss: 153.21416748307234\n",
            "Iteration:  20\n",
            "[9 8 6 ... 1 0 0] [9 8 6 ... 1 0 0]\n",
            "0.7058333333333333\n",
            "Loss: 189.07369486007948\n",
            "Iteration:  30\n",
            "[9 8 6 ... 1 0 0] [9 8 6 ... 1 0 0]\n",
            "0.805\n",
            "Loss: 224.32700003750588\n",
            "Iteration:  40\n",
            "[9 8 6 ... 1 0 0] [9 8 6 ... 1 0 0]\n",
            "0.8655952380952381\n",
            "Loss: 244.47330072598794\n",
            "Iteration:  50\n",
            "[9 8 6 ... 1 0 0] [9 8 6 ... 1 0 0]\n",
            "0.8922619047619048\n",
            "Loss: 253.55182266791508\n",
            "Iteration:  60\n",
            "[9 8 6 ... 1 0 0] [9 8 6 ... 1 0 0]\n",
            "0.8954761904761904\n",
            "Loss: 272.3244777922957\n",
            "Iteration:  70\n",
            "[9 8 6 ... 1 0 0] [9 8 6 ... 1 0 0]\n",
            "0.899375\n",
            "Loss: 278.6523030500479\n",
            "Iteration:  80\n",
            "[9 8 6 ... 1 0 0] [9 8 6 ... 1 0 0]\n",
            "0.910625\n",
            "Loss: 288.82824678635865\n",
            "Iteration:  90\n",
            "[9 8 6 ... 1 0 0] [9 8 6 ... 1 0 0]\n",
            "0.9155654761904762\n",
            "Loss: 296.919075418723\n",
            "Iteration:  100\n",
            "[9 8 6 ... 1 0 0] [9 8 6 ... 1 0 0]\n",
            "0.9183333333333333\n",
            "Loss: 302.766823708207\n",
            "Iteration:  110\n",
            "[9 8 6 ... 1 0 0] [9 8 6 ... 1 0 0]\n",
            "0.9202083333333333\n",
            "Loss: 307.3364436706302\n",
            "Iteration:  120\n",
            "[9 8 6 ... 1 0 0] [9 8 6 ... 1 0 0]\n",
            "0.9226190476190477\n",
            "Loss: 311.1832263115283\n",
            "Iteration:  130\n",
            "[9 8 6 ... 1 0 0] [9 8 6 ... 1 0 0]\n",
            "0.9249404761904761\n",
            "Loss: 314.90071803205745\n",
            "Iteration:  140\n",
            "[9 8 6 ... 1 0 0] [9 8 6 ... 1 0 0]\n",
            "0.9274107142857143\n",
            "Loss: 318.6318420903107\n",
            "Iteration:  150\n",
            "[9 8 6 ... 1 0 0] [9 8 6 ... 1 0 0]\n",
            "0.9296428571428571\n",
            "Loss: 322.1452252372815\n",
            "Iteration:  160\n",
            "[9 8 6 ... 1 0 0] [9 8 6 ... 1 0 0]\n",
            "0.9315178571428572\n",
            "Loss: 325.2880329819366\n",
            "Iteration:  170\n",
            "[9 8 6 ... 1 0 0] [9 8 6 ... 1 0 0]\n",
            "0.9329761904761905\n",
            "Loss: 328.2789830722922\n",
            "Iteration:  180\n",
            "[9 8 6 ... 1 0 0] [9 8 6 ... 1 0 0]\n",
            "0.934702380952381\n",
            "Loss: 331.0292943816543\n",
            "Iteration:  190\n",
            "[9 8 6 ... 1 0 0] [9 8 6 ... 1 0 0]\n",
            "0.9361607142857142\n",
            "Loss: 333.5379538138665\n",
            "Iteration:  200\n",
            "[9 8 6 ... 1 0 0] [9 8 6 ... 1 0 0]\n",
            "0.9373511904761904\n",
            "Loss: 335.87956728736407\n",
            "Iteration:  210\n",
            "[9 8 6 ... 1 0 0] [9 8 6 ... 1 0 0]\n",
            "0.9388690476190477\n",
            "Loss: 338.048718709012\n",
            "Iteration:  220\n",
            "[9 8 6 ... 1 0 0] [9 8 6 ... 1 0 0]\n",
            "0.9403571428571429\n",
            "Loss: 340.11030340687364\n",
            "Iteration:  230\n",
            "[9 8 6 ... 1 0 0] [9 8 6 ... 1 0 0]\n",
            "0.9416666666666667\n",
            "Loss: 342.19737127008915\n",
            "Iteration:  240\n",
            "[9 8 6 ... 1 0 0] [9 8 6 ... 1 0 0]\n",
            "0.9427380952380953\n",
            "Loss: 344.28342496481366\n",
            "Iteration:  250\n",
            "[9 8 6 ... 1 0 0] [9 8 6 ... 1 0 0]\n",
            "0.94375\n",
            "Loss: 346.2935954233799\n",
            "Iteration:  260\n",
            "[9 8 6 ... 1 0 0] [9 8 6 ... 1 0 0]\n",
            "0.9445535714285714\n",
            "Loss: 348.159006103808\n",
            "Iteration:  270\n",
            "[9 8 6 ... 1 0 0] [9 8 6 ... 1 0 0]\n",
            "0.9457738095238095\n",
            "Loss: 349.9521608662313\n",
            "Iteration:  280\n",
            "[9 8 6 ... 1 0 0] [9 8 6 ... 1 0 0]\n",
            "0.9469047619047619\n",
            "Loss: 351.71390492339407\n",
            "Iteration:  290\n",
            "[9 8 6 ... 1 0 0] [9 8 6 ... 1 0 0]\n",
            "0.9477380952380953\n",
            "Loss: 353.3910079227359\n",
            "Iteration:  300\n",
            "[9 8 6 ... 1 0 0] [9 8 6 ... 1 0 0]\n",
            "0.9484523809523809\n",
            "Loss: 355.08899612452893\n",
            "Iteration:  310\n",
            "[9 8 6 ... 1 0 0] [9 8 6 ... 1 0 0]\n",
            "0.949375\n",
            "Loss: 356.8513705151106\n",
            "Iteration:  320\n",
            "[9 8 6 ... 1 0 0] [9 8 6 ... 1 0 0]\n",
            "0.95\n",
            "Loss: 358.54861416860973\n",
            "Iteration:  330\n",
            "[9 8 6 ... 1 0 0] [9 8 6 ... 1 0 0]\n",
            "0.9505654761904762\n",
            "Loss: 360.19771785831483\n",
            "Iteration:  340\n",
            "[9 8 6 ... 1 0 0] [9 8 6 ... 1 0 0]\n",
            "0.9515476190476191\n",
            "Loss: 361.8167786002595\n",
            "Iteration:  350\n",
            "[9 8 6 ... 1 0 0] [9 8 6 ... 1 0 0]\n",
            "0.9522916666666666\n",
            "Loss: 363.4173603692066\n",
            "Iteration:  360\n",
            "[9 8 6 ... 1 0 0] [9 8 6 ... 1 0 0]\n",
            "0.9534523809523809\n",
            "Loss: 365.0422859223534\n",
            "Iteration:  370\n",
            "[9 8 6 ... 1 0 0] [9 8 6 ... 1 0 0]\n",
            "0.9544642857142858\n",
            "Loss: 366.6156869983746\n",
            "Iteration:  380\n",
            "[9 8 6 ... 1 0 0] [9 8 6 ... 1 0 0]\n",
            "0.9551190476190476\n",
            "Loss: 368.1955534353198\n",
            "Iteration:  390\n",
            "[9 8 6 ... 1 0 0] [9 8 6 ... 1 0 0]\n",
            "0.9558333333333333\n",
            "Loss: 369.711291275092\n",
            "Iteration:  400\n",
            "[9 8 6 ... 1 0 0] [9 8 6 ... 1 0 0]\n",
            "0.9563095238095238\n",
            "Loss: 371.1804303759601\n",
            "Iteration:  410\n",
            "[9 8 6 ... 1 0 0] [9 8 6 ... 1 0 0]\n",
            "0.9569940476190476\n",
            "Loss: 372.70835595234456\n",
            "Iteration:  420\n",
            "[9 8 6 ... 1 0 0] [9 8 6 ... 1 0 0]\n",
            "0.9576190476190476\n",
            "Loss: 374.2417690662789\n",
            "Iteration:  430\n",
            "[9 8 6 ... 1 0 0] [9 8 6 ... 1 0 0]\n",
            "0.9582440476190476\n",
            "Loss: 375.7516021462437\n",
            "Iteration:  440\n",
            "[9 8 6 ... 1 0 0] [9 8 6 ... 1 0 0]\n",
            "0.95875\n",
            "Loss: 377.22173340699356\n",
            "Iteration:  450\n",
            "[9 8 6 ... 1 0 0] [9 8 6 ... 1 0 0]\n",
            "0.9597321428571428\n",
            "Loss: 378.6760453374633\n",
            "Iteration:  460\n",
            "[9 8 6 ... 1 0 0] [9 8 6 ... 1 0 0]\n",
            "0.9603273809523809\n",
            "Loss: 380.1064208172806\n",
            "Iteration:  470\n",
            "[9 8 6 ... 1 0 0] [9 8 6 ... 1 0 0]\n",
            "0.960952380952381\n",
            "Loss: 381.4919691965084\n",
            "Iteration:  480\n",
            "[9 8 6 ... 1 0 0] [9 8 6 ... 1 0 0]\n",
            "0.9614583333333333\n",
            "Loss: 382.89283452655707\n",
            "Iteration:  490\n",
            "[9 8 6 ... 1 0 0] [9 8 6 ... 1 0 0]\n",
            "0.9619345238095238\n",
            "Loss: 384.38262912719233\n",
            "Iteration:  500\n",
            "[9 8 6 ... 1 0 0] [9 8 6 ... 1 0 0]\n",
            "0.9627380952380953\n",
            "Loss: 385.7829989664322\n",
            "Iteration:  510\n",
            "[9 8 6 ... 1 0 0] [9 8 6 ... 1 0 0]\n",
            "0.9636011904761905\n",
            "Loss: 387.25217417493207\n",
            "Iteration:  520\n",
            "[9 8 6 ... 1 0 0] [9 8 6 ... 1 0 0]\n",
            "0.9641964285714286\n",
            "Loss: 388.7072838199294\n",
            "Iteration:  530\n",
            "[9 8 6 ... 1 0 0] [9 8 6 ... 1 0 0]\n",
            "0.9648214285714286\n",
            "Loss: 390.1410419464962\n",
            "Iteration:  540\n",
            "[9 8 6 ... 1 0 0] [9 8 6 ... 1 0 0]\n",
            "0.9657142857142857\n",
            "Loss: 391.4937422124832\n",
            "Iteration:  550\n",
            "[9 8 6 ... 1 0 0] [9 8 6 ... 1 0 0]\n",
            "0.9660714285714286\n",
            "Loss: 392.8699422352827\n",
            "Iteration:  560\n",
            "[9 8 6 ... 1 0 0] [9 8 6 ... 1 0 0]\n",
            "0.9664880952380952\n",
            "Loss: 394.2355355211867\n",
            "Iteration:  570\n",
            "[9 8 6 ... 1 0 0] [9 8 6 ... 1 0 0]\n",
            "0.9667559523809524\n",
            "Loss: 395.60298641742736\n",
            "Iteration:  580\n",
            "[9 8 6 ... 1 0 0] [9 8 6 ... 1 0 0]\n",
            "0.967202380952381\n",
            "Loss: 396.90661936038134\n",
            "Iteration:  590\n",
            "[9 8 6 ... 1 0 0] [9 8 6 ... 1 0 0]\n",
            "0.9677380952380953\n",
            "Loss: 398.21099585902925\n",
            "Iteration:  600\n",
            "[9 8 6 ... 1 0 0] [9 8 6 ... 1 0 0]\n",
            "0.9680952380952381\n",
            "Loss: 399.53666224533583\n",
            "Iteration:  610\n",
            "[9 8 6 ... 1 0 0] [9 8 6 ... 1 0 0]\n",
            "0.9686607142857143\n",
            "Loss: 400.8788110498761\n",
            "Iteration:  620\n",
            "[9 8 6 ... 1 0 0] [9 8 6 ... 1 0 0]\n",
            "0.9689880952380953\n",
            "Loss: 402.1582894906052\n",
            "Iteration:  630\n",
            "[9 8 6 ... 1 0 0] [9 8 6 ... 1 0 0]\n",
            "0.969672619047619\n",
            "Loss: 403.48661382687436\n",
            "Iteration:  640\n",
            "[9 8 6 ... 1 0 0] [9 8 6 ... 1 0 0]\n",
            "0.9700892857142858\n",
            "Loss: 404.8074913610916\n",
            "Iteration:  650\n",
            "[9 8 6 ... 1 0 0] [9 8 6 ... 1 0 0]\n",
            "0.9705059523809524\n",
            "Loss: 406.12250894835705\n",
            "Iteration:  660\n",
            "[9 8 6 ... 1 0 0] [9 8 6 ... 1 0 0]\n",
            "0.9707440476190476\n",
            "Loss: 407.41226049177425\n",
            "Iteration:  670\n",
            "[9 8 6 ... 1 0 0] [9 8 6 ... 1 0 0]\n",
            "0.9709821428571429\n",
            "Loss: 408.74858580245143\n",
            "Iteration:  680\n",
            "[9 8 6 ... 1 0 0] [9 8 6 ... 1 0 0]\n",
            "0.97125\n",
            "Loss: 410.12744095242215\n",
            "Iteration:  690\n",
            "[9 8 6 ... 1 0 0] [9 8 6 ... 1 0 0]\n",
            "0.9719345238095238\n",
            "Loss: 411.4662041359843\n",
            "Iteration:  700\n",
            "[9 8 6 ... 1 0 0] [9 8 6 ... 1 0 0]\n",
            "0.9722916666666667\n",
            "Loss: 412.78818756382265\n",
            "Iteration:  710\n",
            "[9 8 6 ... 1 0 0] [9 8 6 ... 1 0 0]\n",
            "0.9725595238095238\n",
            "Loss: 414.11797539517875\n",
            "Iteration:  720\n",
            "[9 8 6 ... 1 0 0] [9 8 6 ... 1 0 0]\n",
            "0.9729166666666667\n",
            "Loss: 415.4263265095642\n",
            "Iteration:  730\n",
            "[9 8 6 ... 1 0 0] [9 8 6 ... 1 0 0]\n",
            "0.9733035714285714\n",
            "Loss: 416.73015234931796\n",
            "Iteration:  740\n",
            "[9 8 6 ... 1 0 0] [9 8 6 ... 1 0 0]\n",
            "0.9738392857142857\n",
            "Loss: 418.0007847093662\n",
            "Iteration:  750\n",
            "[9 8 6 ... 1 0 0] [9 8 6 ... 1 0 0]\n",
            "0.9742559523809524\n",
            "Loss: 419.258608281143\n",
            "Iteration:  760\n",
            "[9 8 6 ... 1 0 0] [9 8 6 ... 1 0 0]\n",
            "0.9747321428571428\n",
            "Loss: 420.4874144874953\n",
            "Iteration:  770\n",
            "[9 8 6 ... 1 0 0] [9 8 6 ... 1 0 0]\n",
            "0.9749702380952381\n",
            "Loss: 421.73073890172475\n",
            "Iteration:  780\n",
            "[9 8 6 ... 1 0 0] [9 8 6 ... 1 0 0]\n",
            "0.9753273809523809\n",
            "Loss: 423.00525549693344\n",
            "Iteration:  790\n",
            "[9 8 6 ... 1 0 0] [9 8 6 ... 1 0 0]\n",
            "0.9754166666666667\n",
            "Loss: 424.2828977938018\n",
            "Iteration:  800\n",
            "[9 8 6 ... 1 0 0] [9 8 6 ... 1 0 0]\n",
            "0.9756547619047619\n",
            "Loss: 425.5443938720668\n",
            "Iteration:  810\n",
            "[9 8 6 ... 1 0 0] [9 8 6 ... 1 0 0]\n",
            "0.9759523809523809\n",
            "Loss: 426.78140147490825\n",
            "Iteration:  820\n",
            "[9 8 6 ... 1 0 0] [9 8 6 ... 1 0 0]\n",
            "0.9763095238095238\n",
            "Loss: 428.03574761113737\n",
            "Iteration:  830\n",
            "[9 8 6 ... 1 0 0] [9 8 6 ... 1 0 0]\n",
            "0.9767559523809524\n",
            "Loss: 429.25351753006606\n",
            "Iteration:  840\n",
            "[9 8 6 ... 1 0 0] [9 8 6 ... 1 0 0]\n",
            "0.9770833333333333\n",
            "Loss: 430.4332608299001\n",
            "Iteration:  850\n",
            "[9 8 6 ... 1 0 0] [9 8 6 ... 1 0 0]\n",
            "0.9773809523809524\n",
            "Loss: 431.6119710220354\n",
            "Iteration:  860\n",
            "[9 8 6 ... 1 0 0] [9 8 6 ... 1 0 0]\n",
            "0.9776785714285714\n",
            "Loss: 432.78813037419536\n",
            "Iteration:  870\n",
            "[9 8 6 ... 1 0 0] [9 8 6 ... 1 0 0]\n",
            "0.9780059523809523\n",
            "Loss: 433.954320194375\n",
            "Iteration:  880\n",
            "[9 8 6 ... 1 0 0] [9 8 6 ... 1 0 0]\n",
            "0.9783928571428572\n",
            "Loss: 435.1557134406496\n",
            "Iteration:  890\n",
            "[9 8 6 ... 1 0 0] [9 8 6 ... 1 0 0]\n",
            "0.9786607142857143\n",
            "Loss: 436.36703361835686\n",
            "Iteration:  900\n",
            "[9 8 6 ... 1 0 0] [9 8 6 ... 1 0 0]\n",
            "0.9788095238095238\n",
            "Loss: 437.58359352493704\n",
            "Iteration:  910\n",
            "[9 8 6 ... 1 0 0] [9 8 6 ... 1 0 0]\n",
            "0.9791964285714285\n",
            "Loss: 438.7643490589171\n",
            "Iteration:  920\n",
            "[9 8 6 ... 1 0 0] [9 8 6 ... 1 0 0]\n",
            "0.9794345238095238\n",
            "Loss: 439.9655172835881\n",
            "Iteration:  930\n",
            "[9 8 6 ... 1 0 0] [9 8 6 ... 1 0 0]\n",
            "0.979672619047619\n",
            "Loss: 441.20540860090824\n",
            "Iteration:  940\n",
            "[9 8 6 ... 1 0 0] [9 8 6 ... 1 0 0]\n",
            "0.98\n",
            "Loss: 442.42252248162066\n",
            "Iteration:  950\n",
            "[9 8 6 ... 1 0 0] [9 8 6 ... 1 0 0]\n",
            "0.9800595238095238\n",
            "Loss: 443.68330040364054\n",
            "Iteration:  960\n",
            "[9 8 6 ... 1 0 0] [9 8 6 ... 1 0 0]\n",
            "0.9803571428571428\n",
            "Loss: 444.8779996878742\n",
            "Iteration:  970\n",
            "[9 8 6 ... 1 0 0] [9 8 6 ... 1 0 0]\n",
            "0.9805654761904762\n",
            "Loss: 446.08699031378484\n",
            "Iteration:  980\n",
            "[9 8 6 ... 1 0 0] [9 8 6 ... 1 0 0]\n",
            "0.980922619047619\n",
            "Loss: 447.27778459771935\n",
            "Iteration:  990\n",
            "[9 8 6 ... 1 0 0] [9 8 6 ... 1 0 0]\n",
            "0.9811904761904762\n",
            "Loss: 448.4774510392704\n"
          ]
        }
      ]
    },
    {
      "cell_type": "markdown",
      "source": [
        "Check model on Testing Dataset"
      ],
      "metadata": {
        "id": "aM5X5riM-qCo"
      }
    },
    {
      "cell_type": "code",
      "source": [
        "data_test = pd.read_csv('test.csv')"
      ],
      "metadata": {
        "id": "kRv39jIS-pYM"
      },
      "execution_count": null,
      "outputs": []
    },
    {
      "cell_type": "code",
      "source": [
        "def make_predictions(X, W1, b1, W2, b2, W3, b3):\n",
        "    _, _, _, _, _, A3 = forward_prop(W1, b1, W2, b2, W3, b3, X)\n",
        "    predictions = get_predictions(A3)\n",
        "    return predictions\n",
        "\n",
        "def test_prediction(index, W1, b1, W2, b2, W3, b3):\n",
        "    current_image = cp.asarray(X_train[:, index, None])\n",
        "    prediction = make_predictions(cp.asarray(X_train[:, index, None]), W1, b1, W2, b2, W3, b3)\n",
        "    label = cp.asarray(Y_train[index])\n",
        "    print(\"Prediction: \", prediction)\n",
        "    print(\"Label: \", label)\n",
        "\n",
        "    current_image = cp.asnumpy(current_image.reshape((28, 28))) * 255\n",
        "    plt.gray()\n",
        "    plt.imshow(current_image, interpolation='nearest')\n",
        "    plt.show()"
      ],
      "metadata": {
        "id": "04df3xbm_Ww6"
      },
      "execution_count": null,
      "outputs": []
    },
    {
      "cell_type": "code",
      "source": [
        "test_prediction(0, W1, b1, W2, b2, W3, b3)\n",
        "test_prediction(1, W1, b1, W2, b2, W3, b3)\n",
        "test_prediction(2, W1, b1, W2, b2, W3, b3)\n",
        "test_prediction(3, W1, b1, W2, b2, W3, b3)"
      ],
      "metadata": {
        "colab": {
          "base_uri": "https://localhost:8080/",
          "height": 1000
        },
        "id": "IAlNP-E0_OWv",
        "outputId": "db153b32-e336-4e42-d9e7-ee25993a66c6"
      },
      "execution_count": null,
      "outputs": [
        {
          "output_type": "stream",
          "name": "stdout",
          "text": [
            "Prediction:  [9]\n",
            "Label:  9\n"
          ]
        },
        {
          "output_type": "display_data",
          "data": {
            "text/plain": [
              "<Figure size 640x480 with 1 Axes>"
            ],
            "image/png": "[encoded data removed]"
          },
          "metadata": {}
        },
        {
          "output_type": "stream",
          "name": "stdout",
          "text": [
            "Prediction:  [8]\n",
            "Label:  8\n"
          ]
        },
        {
          "output_type": "display_data",
          "data": {
            "text/plain": [
              "<Figure size 640x480 with 1 Axes>"
            ],
            "image/png": "[encoded data removed]"
          },
          "metadata": {}
        },
        {
          "output_type": "stream",
          "name": "stdout",
          "text": [
            "Prediction:  [6]\n",
            "Label:  6\n"
          ]
        },
        {
          "output_type": "display_data",
          "data": {
            "text/plain": [
              "<Figure size 640x480 with 1 Axes>"
            ],
            "image/png": "[encoded data removed]"
          },
          "metadata": {}
        },
        {
          "output_type": "stream",
          "name": "stdout",
          "text": [
            "Prediction:  [9]\n",
            "Label:  9\n"
          ]
        },
        {
          "output_type": "display_data",
          "data": {
            "text/plain": [
              "<Figure size 640x480 with 1 Axes>"
            ],
            "image/png": "[encoded data removed]"
          },
          "metadata": {}
        }
      ]
    },
    {
      "cell_type": "code",
      "source": [
        "dev_predictions = make_predictions(cp.asarray(X_test), W1, b1, W2, b2, W3, b3)\n",
        "get_accuracy(dev_predictions, cp.asarray(Y_test))"
      ],
      "metadata": {
        "colab": {
          "base_uri": "https://localhost:8080/"
        },
        "id": "pQ0mchtyA7or",
        "outputId": "4d7d990e-0abd-47d5-cfb2-013cc2bd37f9"
      },
      "execution_count": null,
      "outputs": [
        {
          "output_type": "stream",
          "name": "stdout",
          "text": [
            "[9 4 9 ... 2 0 8] [9 4 9 ... 8 0 8]\n"
          ]
        },
        {
          "output_type": "execute_result",
          "data": {
            "text/plain": [
              "array(0.9627381)"
            ]
          },
          "metadata": {},
          "execution_count": 18
        }
      ]
    },
    {
      "cell_type": "code",
      "source": [
        "print(X_train.shape)\n",
        "print(Y_train.shape)\n",
        "print(W1.shape)\n",
        "print(b1.shape)\n",
        "print(W2.shape)\n",
        "print(b2.shape)\n",
        "print(W3.shape)\n",
        "print(b3.shape)"
      ],
      "metadata": {
        "colab": {
          "base_uri": "https://localhost:8080/"
        },
        "id": "OtJ2rh7Wvyks",
        "outputId": "a9aeee65-cb26-4e81-8d1a-a27aab71fcc9"
      },
      "execution_count": null,
      "outputs": [
        {
          "output_type": "stream",
          "name": "stdout",
          "text": [
            "(784, 33600)\n",
            "(33600,)\n",
            "(128, 784)\n",
            "(128, 1)\n",
            "(64, 128)\n",
            "(64, 1)\n",
            "(10, 64)\n",
            "(10, 1)\n"
          ]
        }
      ]
    },
    {
      "cell_type": "code",
      "source": [
        "# Assume W1 is already defined and has shape (128, 784)\n",
        "# We'll visualize the first 16 neurons' weights\n",
        "num_features = 25\n",
        "fig, axes = plt.subplots(5, 5, figsize=(8, 8))\n",
        "\n",
        "W1 = cp.asnumpy(W1)\n",
        "\n",
        "for i, ax in enumerate(axes.flat):\n",
        "    if i < num_features:\n",
        "        # Reshape the i-th neuron's weights to 28x28\n",
        "        weight_image = W1[i].reshape(28, 28)\n",
        "\n",
        "        ax.imshow(weight_image, cmap='gray')\n",
        "        ax.axis('off')\n",
        "        ax.set_title(f\"Neuron {i}\")\n",
        "\n",
        "plt.tight_layout()\n",
        "plt.show()"
      ],
      "metadata": {
        "colab": {
          "base_uri": "https://localhost:8080/",
          "height": 806
        },
        "id": "KtM2v5uCvSoF",
        "outputId": "dee43e60-b238-4242-c6d5-8810e9b629ad"
      },
      "execution_count": null,
      "outputs": [
        {
          "output_type": "display_data",
          "data": {
            "text/plain": [
              "<Figure size 800x800 with 25 Axes>"
            ],
            "image/png": "[encoded data removed]"
          },
          "metadata": {}
        }
      ]
    }
  ]
}